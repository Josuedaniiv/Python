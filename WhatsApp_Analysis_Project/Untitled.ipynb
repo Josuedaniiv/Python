{
 "cells": [
  {
   "cell_type": "code",
   "execution_count": null,
   "id": "48c74dc2-5b40-4428-92a0-2c0830eb49af",
   "metadata": {},
   "outputs": [],
   "source": [
    "WhatsApp_Analysis.ipynb"
   ]
  }
 ],
 "metadata": {
  "kernelspec": {
   "display_name": "Python 3 (ipykernel)",
   "language": "python",
   "name": "python3"
  },
  "language_info": {
   "codemirror_mode": {
    "name": "ipython",
    "version": 3
   },
   "file_extension": ".py",
   "mimetype": "text/x-python",
   "name": "python",
   "nbconvert_exporter": "python",
   "pygments_lexer": "ipython3",
   "version": "3.11.4"
  }
 },
 "nbformat": 4,
 "nbformat_minor": 5
}
